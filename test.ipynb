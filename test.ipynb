{
  "cells": [
    {
      "cell_type": "code",
      "source": [
        "a=15"
      ],
      "metadata": {
        "id": "yuTMA7ZJvpAz"
      },
      "id": "yuTMA7ZJvpAz",
      "execution_count": 3,
      "outputs": []
    },
    {
      "cell_type": "code",
      "execution_count": 5,
      "id": "94fc3721",
      "metadata": {
        "vscode": {
          "languageId": "plaintext"
        },
        "id": "94fc3721"
      },
      "outputs": [],
      "source": [
        "a=10"
      ]
    },
    {
      "cell_type": "code",
      "execution_count": 6,
      "id": "c0ba3e1b",
      "metadata": {
        "vscode": {
          "languageId": "plaintext"
        },
        "colab": {
          "base_uri": "https://localhost:8080/"
        },
        "id": "c0ba3e1b",
        "outputId": "f2636483-0850-4c4b-f066-cae26e7335f2"
      },
      "outputs": [
        {
          "output_type": "stream",
          "name": "stdout",
          "text": [
            "10\n"
          ]
        }
      ],
      "source": [
        "print(a)"
      ]
    }
  ],
  "metadata": {
    "language_info": {
      "name": "python"
    },
    "colab": {
      "provenance": []
    },
    "kernelspec": {
      "name": "python3",
      "display_name": "Python 3"
    }
  },
  "nbformat": 4,
  "nbformat_minor": 5
}